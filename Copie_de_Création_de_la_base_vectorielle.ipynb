{
  "cells": [
    {
      "cell_type": "markdown",
      "metadata": {
        "id": "view-in-github",
        "colab_type": "text"
      },
      "source": [
        "<a href=\"https://colab.research.google.com/github/gaddour77/PFEFlask/blob/main/Copie_de_Cr%C3%A9ation_de_la_base_vectorielle.ipynb\" target=\"_parent\"><img src=\"https://colab.research.google.com/assets/colab-badge.svg\" alt=\"Open In Colab\"/></a>"
      ]
    },
    {
      "cell_type": "code",
      "source": [
        "!apt-get install -y poppler-utils\n",
        "!pip install pdf2image pytesseract pillow\n",
        "!apt-get install -y tesseract-ocr-fra\n",
        "\n",
        "import pytesseract\n",
        "from pdf2image import convert_from_path\n",
        "import os\n",
        "from google.colab import drive\n",
        "\n",
        "# Monter Google Drive\n",
        "\n",
        "def ocr_pdf_to_text(pdf_path, output_txt_path, lang=\"fra\"):\n",
        "    \"\"\"\n",
        "    Convertit un PDF en texte brut via OCR et sauvegarde le résultat.\n",
        "    \"\"\"\n",
        "    pages = convert_from_path(pdf_path)\n",
        "\n",
        "    text = \"\"\n",
        "    for page in pages:\n",
        "        text += pytesseract.image_to_string(page, lang=lang) + \"\\n\"\n",
        "\n",
        "    with open(output_txt_path, \"w\", encoding=\"utf-8\") as f:\n",
        "        f.write(text)\n",
        "\n",
        "    print(f\"✅ Texte OCR extrait depuis {pdf_path} et sauvegardé dans {output_txt_path}\")\n",
        "    print(\"=== Aperçu ===\")\n",
        "    print(text[:500])  # afficher un extrait du texte brut\n",
        "    print(\"\\n\")\n",
        "\n",
        "# Exemple avec 2 PDF\n",
        "pdf1 = \"/content/drive/MyDrive/chunks/assurance_merged.pdf\"\n",
        "txt1 = \"/content/drive/MyDrive/chunks/assurance_text.txt\"\n",
        "\n",
        "pdf2 = \"/content/drive/MyDrive/chunks/code.pdf\"\n",
        "txt2 = \"/content/drive/MyDrive/chunks/code_commerce_text.txt\"\n",
        "drive.mount('/content/drive')\n",
        "ocr_pdf_to_text(pdf1, txt1)\n",
        "ocr_pdf_to_text(pdf2, txt2)\n"
      ],
      "metadata": {
        "colab": {
          "base_uri": "https://localhost:8080/"
        },
        "id": "-QevRdR2Wv_H",
        "outputId": "e23caca8-eb2e-4e54-99a1-7e63c948c284"
      },
      "execution_count": null,
      "outputs": [
        {
          "output_type": "stream",
          "name": "stdout",
          "text": [
            "Reading package lists... Done\n",
            "Building dependency tree... Done\n",
            "Reading state information... Done\n",
            "poppler-utils is already the newest version (22.02.0-2ubuntu0.10).\n",
            "0 upgraded, 0 newly installed, 0 to remove and 35 not upgraded.\n",
            "Requirement already satisfied: pdf2image in /usr/local/lib/python3.12/dist-packages (1.17.0)\n",
            "Requirement already satisfied: pytesseract in /usr/local/lib/python3.12/dist-packages (0.3.13)\n",
            "Requirement already satisfied: pillow in /usr/local/lib/python3.12/dist-packages (11.3.0)\n",
            "Requirement already satisfied: packaging>=21.3 in /usr/local/lib/python3.12/dist-packages (from pytesseract) (25.0)\n",
            "Reading package lists... Done\n",
            "Building dependency tree... Done\n",
            "Reading state information... Done\n",
            "tesseract-ocr-fra is already the newest version (1:4.00~git30-7274cfa-1.1).\n",
            "0 upgraded, 0 newly installed, 0 to remove and 35 not upgraded.\n",
            "Mounted at /content/drive\n",
            "✅ Texte OCR extrait depuis /content/drive/MyDrive/chunks/assurance_merged.pdf et sauvegardé dans /content/drive/MyDrive/chunks/assurance_text.txt\n",
            "=== Aperçu ===\n",
            "CODE DES ASSURANCES\n",
            "\n",
            "TITREI\n",
            "LE CONTRAT D'ASSURANCE\n",
            "\n",
            "CHAPITRE I\n",
            "DISPOSITIONS GENERALES\n",
            "\n",
            "Article premier.- Le contrat d'assurance est la convention par\n",
            "laquelle une entreprise d'assurance ou assureur s'engage, en cas de\n",
            "réalisation du risque ou au terme fixé au contrat, à fournir à une autre\n",
            "personne appelée \"assuré\" une prestation pécuniaire en contrepartie\n",
            "d'une rémunération appelée prime ou cotisation.\n",
            "\n",
            "Article 2.- Le contrat d'assurance est rédigé en caractères apparents.\n",
            "Toute modification ou\n",
            "\n",
            "\n",
            "✅ Texte OCR extrait depuis /content/drive/MyDrive/chunks/code.pdf et sauvegardé dans /content/drive/MyDrive/chunks/code_commerce_text.txt\n",
            "=== Aperçu ===\n",
            "REPUBLIQUE TUNISIENNE\n",
            "\n",
            "CODE DE LA ROUTE\n",
            "etses textes d'application\n",
            "\n",
            "2017\n",
            "\n",
            "Publications de l’Imprimerie Officielle de la République Tunisienne\n",
            "\f\n",
            "Loi n° 99-71 du 26 juillet 1999, portant promulgation du\n",
            "code de la route l.\n",
            "\n",
            "Au nom du peuple,\n",
            "La chambre des députés ayant adopté,\n",
            "Le Président de la République promulgue la loi dont la teneur suit :\n",
            "\n",
            "Article premier.- Est promulgué, en vertu de la présente loi, le\n",
            "code de la route relatif aux règles du roulage et de la circulation sur les\n",
            "routes et à \n",
            "\n",
            "\n"
          ]
        }
      ]
    },
    {
      "cell_type": "code",
      "source": [
        "# Installation des bibliothèques nécessaires\n",
        "!pip install -q -U sentence-transformers\n",
        "!pip install -q numpy\n",
        "!pip install -q scikit-learn\n",
        "\n",
        "import numpy as np\n",
        "from sklearn.metrics.pairwise import cosine_similarity\n",
        "from sentence_transformers import SentenceTransformer\n",
        "import os\n",
        "from google.colab import drive\n",
        "drive.mount('/content/drive')\n",
        "# --- 1. Lecture des fichiers ---\n",
        "file_names = [\"/content/drive/MyDrive/chunks/assurance_text.txt\", \"/content/drive/MyDrive/chunks/code_commerce_text.txt\"]\n",
        "full_text = \"\"\n",
        "\n",
        "try:\n",
        "    for file_name in file_names:\n",
        "        with open(file_name, 'r', encoding='utf-8') as f:\n",
        "            full_text += f.read() + \"\\n\\n\"\n",
        "    print(\"Fichiers lus avec succès.\")\n",
        "except FileNotFoundError as e:\n",
        "    print(f\"Erreur : Un des fichiers n'a pas été trouvé. Veuillez vous assurer que le chemin '{e.filename}' est correct et que Google Drive est monté.\")\n",
        "    exit()\n",
        "\n",
        "# --- 2. Chargement du modèle local ---\n",
        "model = SentenceTransformer('all-MiniLM-L6-v2')\n",
        "print(\"Modèle de transformation de phrases chargé avec succès.\")\n",
        "\n",
        "# --- 3. Segmentation du texte et création de la base de données ---\n",
        "articles = full_text.split(\"Article\")\n",
        "articles = [(\"Article \" + item).strip() for item in articles if item.strip()]\n",
        "\n",
        "# Créez la base de données vectorielle\n",
        "vector_db = []\n",
        "for art in articles:\n",
        "    embedding = model.encode(art)\n",
        "    vector_db.append({\n",
        "        'text': art,\n",
        "        'embedding': embedding\n",
        "    })\n",
        "\n",
        "print(f\"Base de données vectorielle créée avec {len(vector_db)} articles.\")\n",
        "\n",
        "# --- 4. Exemple de recherche de similarité ---\n",
        "if vector_db:\n",
        "    query = \"Droits et obligations des entreprises d'assurance.\"\n",
        "    print(f\"\\nRecherche pour la requête : '{query}'\")\n",
        "\n",
        "    query_embedding = model.encode(query)\n",
        "\n",
        "    similarities = []\n",
        "    for item in vector_db:\n",
        "        similarity = cosine_similarity([query_embedding], [item['embedding']])[0][0]\n",
        "        similarities.append((similarity, item['text']))\n",
        "\n",
        "    similarities.sort(key=lambda x: x[0], reverse=True)\n",
        "\n",
        "    if similarities:\n",
        "        print(\"\\n--- Résultat le plus pertinent ---\")\n",
        "        best_match_score = similarities[0][0]\n",
        "        best_match_text = similarities[0][1]\n",
        "        print(f\"Score de similarité: {best_match_score:.4f}\")\n",
        "        print(f\"Article pertinent:\\n{best_match_text}\")"
      ],
      "metadata": {
        "colab": {
          "base_uri": "https://localhost:8080/"
        },
        "id": "h0wAcBdlrvxl",
        "outputId": "b60f817d-34a2-4b41-e60d-0d73e3940cd2"
      },
      "execution_count": null,
      "outputs": [
        {
          "output_type": "stream",
          "name": "stdout",
          "text": [
            "Mounted at /content/drive\n",
            "Fichiers lus avec succès.\n"
          ]
        },
        {
          "output_type": "stream",
          "name": "stderr",
          "text": [
            "/usr/local/lib/python3.12/dist-packages/huggingface_hub/utils/_auth.py:94: UserWarning: \n",
            "The secret `HF_TOKEN` does not exist in your Colab secrets.\n",
            "To authenticate with the Hugging Face Hub, create a token in your settings tab (https://huggingface.co/settings/tokens), set it as secret in your Google Colab and restart your session.\n",
            "You will be able to reuse this secret in all of your notebooks.\n",
            "Please note that authentication is recommended but still optional to access public models or datasets.\n",
            "  warnings.warn(\n"
          ]
        },
        {
          "output_type": "stream",
          "name": "stdout",
          "text": [
            "Modèle de transformation de phrases chargé avec succès.\n",
            "Base de données vectorielle créée avec 1525 articles.\n",
            "\n",
            "Recherche pour la requête : 'Droits et obligations des entreprises d'assurance.'\n",
            "\n",
            "--- Résultat le plus pertinent ---\n",
            "Score de similarité: 0.6945\n",
            "Article pertinent:\n",
            "Article  82.- Les professions du secteur des assurances sont\n",
            "soumises au contrôle du « Comité Général des Assurances » (). Le\n",
            "contrôle vise à protéger les assurés, les bénéficiaires et toute autre\n",
            "tierce partie intéressée à la bonne exécution des contrats d'assurances.\n",
            "\n",
            "\"Le contrôle porte notamment sur l'application de la\n",
            "réglementation des assurances, le fonctionnement des entreprises\n",
            "d'assurances et des entreprises de réassurances et l'emploi des fonds\n",
            "liés à des opérations d'assurances et des opérations de réassurances\".\n",
            "(Abrogé et remplacé par l'article premier de la loi n° 2002-37 du\n",
            "1° avril 2002).\n",
            "\n",
            "(1) L'expression est remplacée par art. 2 de la loi n°2008-8 du 13 février 2008\n",
            "\n",
            "39\n"
          ]
        }
      ]
    },
    {
      "cell_type": "code",
      "source": [
        "import pickle\n",
        "\n",
        "# --- Sauvegarde de la base de données ---\n",
        "# Assurez-vous que le dossier 'chunks' existe dans votre Drive\n",
        "# Le fichier sera sauvegardé sous le nom 'vector_db.pkl'\n",
        "output_path = '/content/drive/MyDrive/chunks/vector_db.pkl'\n",
        "\n",
        "try:\n",
        "    with open(output_path, 'wb') as f:\n",
        "        pickle.dump(vector_db, f)\n",
        "    print(f\"\\nBase de données vectorielle sauvegardée avec succès à : {output_path}\")\n",
        "except Exception as e:\n",
        "    print(f\"\\nErreur lors de la sauvegarde : {e}\")"
      ],
      "metadata": {
        "colab": {
          "base_uri": "https://localhost:8080/"
        },
        "id": "Wwb6E993v01Y",
        "outputId": "0897bf20-f1b8-411d-98f6-5e17bcc08db3"
      },
      "execution_count": null,
      "outputs": [
        {
          "output_type": "stream",
          "name": "stdout",
          "text": [
            "\n",
            "Base de données vectorielle sauvegardée avec succès à : /content/drive/MyDrive/chunks/vector_db.pkl\n"
          ]
        }
      ]
    }
  ],
  "metadata": {
    "colab": {
      "provenance": [],
      "machine_shape": "hm",
      "gpuType": "A100",
      "include_colab_link": true
    },
    "kernelspec": {
      "display_name": "Python 3",
      "name": "python3"
    },
    "accelerator": "GPU"
  },
  "nbformat": 4,
  "nbformat_minor": 0
}